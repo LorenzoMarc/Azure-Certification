{
  "cells": [
    {
      "cell_type": "markdown",
      "source": [
        "# Data preparation and ML ops\n",
        "\n",
        "## Preprocessing\n",
        "### Fake data"
      ],
      "metadata": {
        "nteract": {
          "transient": {
            "deleting": false
          }
        }
      }
    },
    {
      "cell_type": "code",
      "source": [
        "import pandas as pd\n",
        "import numpy as np\n",
        "from sklearn.preprocessing import StandardScaler\n",
        "from sklearn.model_selection import train_test_split\n",
        "from scipy import stats\n",
        "\n",
        "np.random.seed(42)\n",
        "n_samples = 100\n",
        "data = {\n",
        "    'income': np.random.normal(50000, 15000, n_samples),\n",
        "    'credit_score' : np.random.normal(650,50, n_samples),\n",
        "    'job_title' : np.random.choice(['Engineer', 'Teacher', 'Doctor', 'Artist'], n_samples),\n",
        "    'target' : np.random.choice([0,1], n_samples)\n",
        "}\n",
        "\n",
        "data['income'][np.random.randint(0, n_samples, 5)] = np.nan\n",
        "data['credit_score'][np.random.randint(0, n_samples, 3)] = np.nan\n",
        "data['income'][np.random.randint(0, n_samples, 2)] = 150000\n",
        "df_initial = pd.DataFrame(data)\n",
        "df = pd.DataFrame(data)"
      ],
      "outputs": [],
      "execution_count": 1,
      "metadata": {
        "gather": {
          "logged": 1759574338849
        }
      }
    },
    {
      "cell_type": "markdown",
      "source": [
        "### Handle values - cleaning missing values"
      ],
      "metadata": {
        "nteract": {
          "transient": {
            "deleting": false
          }
        }
      }
    },
    {
      "cell_type": "code",
      "source": [
        "for column in df.select_dtypes(include=['float64', 'int64']).columns:\n",
        "    df[column].fillna(df[column].median(), inplace=True)\n",
        "\n",
        "df.drop_duplicates(inplace=True)\n",
        "\n"
      ],
      "outputs": [
        {
          "output_type": "stream",
          "name": "stderr",
          "text": "/tmp/ipykernel_6168/3460735258.py:2: FutureWarning: A value is trying to be set on a copy of a DataFrame or Series through chained assignment using an inplace method.\nThe behavior will change in pandas 3.0. This inplace method will never work because the intermediate object on which we are setting values always behaves as a copy.\n\nFor example, when doing 'df[col].method(value, inplace=True)', try using 'df.method({col: value}, inplace=True)' or df[col] = df[col].method(value) instead, to perform the operation inplace on the original object.\n\n\n  df[column].fillna(df[column].median(), inplace=True)\n"
        }
      ],
      "execution_count": 2,
      "metadata": {
        "gather": {
          "logged": 1759574339067
        }
      }
    },
    {
      "cell_type": "markdown",
      "source": [
        "### Standardize variables \n",
        "- scaling\n",
        "- Encoding one hot\n",
        "- detectin outliers"
      ],
      "metadata": {
        "nteract": {
          "transient": {
            "deleting": false
          }
        }
      }
    },
    {
      "cell_type": "code",
      "source": [
        "scaler = StandardScaler()\n",
        "numeric_features = df.select_dtypes(include=['float64', 'int64']).columns\n",
        "df[numeric_features] = scaler.fit_transform(df[numeric_features])\n",
        "\n",
        "df = pd.get_dummies(df, drop_first=True)\n",
        "z_scores = np.abs(stats.zscore(df.select_dtypes(include=['float64', 'int64'])))\n",
        "df = df[(z_scores<3).all(axis=1)]"
      ],
      "outputs": [],
      "execution_count": 3,
      "metadata": {
        "gather": {
          "logged": 1759574339222
        }
      }
    },
    {
      "cell_type": "code",
      "source": [
        "#df.head()\n",
        "df_initial.head()"
      ],
      "outputs": [
        {
          "output_type": "execute_result",
          "execution_count": 4,
          "data": {
            "text/plain": "         income  credit_score job_title  target\n0  57450.712295    579.231463   Teacher       0\n1  47926.035482    628.967734   Teacher       0\n2  59715.328072    632.864274  Engineer       0\n3  72845.447846    609.886137    Artist       1\n4  46487.699379    641.935714  Engineer       0",
            "text/html": "<div>\n<style scoped>\n    .dataframe tbody tr th:only-of-type {\n        vertical-align: middle;\n    }\n\n    .dataframe tbody tr th {\n        vertical-align: top;\n    }\n\n    .dataframe thead th {\n        text-align: right;\n    }\n</style>\n<table border=\"1\" class=\"dataframe\">\n  <thead>\n    <tr style=\"text-align: right;\">\n      <th></th>\n      <th>income</th>\n      <th>credit_score</th>\n      <th>job_title</th>\n      <th>target</th>\n    </tr>\n  </thead>\n  <tbody>\n    <tr>\n      <th>0</th>\n      <td>57450.712295</td>\n      <td>579.231463</td>\n      <td>Teacher</td>\n      <td>0</td>\n    </tr>\n    <tr>\n      <th>1</th>\n      <td>47926.035482</td>\n      <td>628.967734</td>\n      <td>Teacher</td>\n      <td>0</td>\n    </tr>\n    <tr>\n      <th>2</th>\n      <td>59715.328072</td>\n      <td>632.864274</td>\n      <td>Engineer</td>\n      <td>0</td>\n    </tr>\n    <tr>\n      <th>3</th>\n      <td>72845.447846</td>\n      <td>609.886137</td>\n      <td>Artist</td>\n      <td>1</td>\n    </tr>\n    <tr>\n      <th>4</th>\n      <td>46487.699379</td>\n      <td>641.935714</td>\n      <td>Engineer</td>\n      <td>0</td>\n    </tr>\n  </tbody>\n</table>\n</div>"
          },
          "metadata": {}
        }
      ],
      "execution_count": 4,
      "metadata": {
        "gather": {
          "logged": 1759574339409
        }
      }
    },
    {
      "cell_type": "markdown",
      "source": [
        "#### Analyze data\n",
        " - Skewed data\n",
        " - splits"
      ],
      "metadata": {
        "nteract": {
          "transient": {
            "deleting": false
          }
        }
      }
    },
    {
      "cell_type": "code",
      "source": [
        "df['income_log'] = np.log1p(df['income'])\n",
        "df = df.sort_values(by='income_log', ascending=True)\n",
        "# df.dropna(inplace=True)\n",
        "# df"
      ],
      "outputs": [
        {
          "output_type": "stream",
          "name": "stderr",
          "text": "/anaconda/envs/ml_env/lib/python3.12/site-packages/pandas/core/arraylike.py:399: RuntimeWarning: invalid value encountered in log1p\n  result = getattr(ufunc, method)(*inputs, **kwargs)\n"
        }
      ],
      "execution_count": 5,
      "metadata": {
        "gather": {
          "logged": 1759574339577
        }
      }
    },
    {
      "cell_type": "code",
      "source": [
        "X = df.drop('target', axis=1)\n",
        "y = df['target']\n",
        "X_train, X_test, y_train, y_test = train_test_split(X, y, test_size=0.2, random_state=42)"
      ],
      "outputs": [],
      "execution_count": 6,
      "metadata": {
        "gather": {
          "logged": 1759574339734
        }
      }
    },
    {
      "cell_type": "code",
      "source": [
        "X_train"
      ],
      "outputs": [
        {
          "output_type": "execute_result",
          "execution_count": 7,
          "data": {
            "text/plain": "      income  credit_score  job_title_Doctor  job_title_Engineer  \\\n25  0.068457      2.307458             False               False   \n75  0.613229      0.847927             False               False   \n40  0.549298      0.205858              True               False   \n24 -0.433655      0.590632             False                True   \n64 -0.122476      0.993736             False                True   \n..       ...           ...               ...                 ...   \n70  0.260376     -0.989984             False               False   \n34  0.613721     -1.022006              True               False   \n15 -0.447374      0.285177             False               False   \n38 -1.034225      0.833296             False               False   \n36  0.143502     -0.876220             False               False   \n\n    job_title_Teacher  income_log  \n25              False    0.066216  \n75               True    0.478238  \n40              False    0.437802  \n24              False   -0.568551  \n64              False   -0.130651  \n..                ...         ...  \n70              False    0.231410  \n34              False    0.478543  \n15               True   -0.593073  \n38               True         NaN  \n36              False    0.134096  \n\n[78 rows x 6 columns]",
            "text/html": "<div>\n<style scoped>\n    .dataframe tbody tr th:only-of-type {\n        vertical-align: middle;\n    }\n\n    .dataframe tbody tr th {\n        vertical-align: top;\n    }\n\n    .dataframe thead th {\n        text-align: right;\n    }\n</style>\n<table border=\"1\" class=\"dataframe\">\n  <thead>\n    <tr style=\"text-align: right;\">\n      <th></th>\n      <th>income</th>\n      <th>credit_score</th>\n      <th>job_title_Doctor</th>\n      <th>job_title_Engineer</th>\n      <th>job_title_Teacher</th>\n      <th>income_log</th>\n    </tr>\n  </thead>\n  <tbody>\n    <tr>\n      <th>25</th>\n      <td>0.068457</td>\n      <td>2.307458</td>\n      <td>False</td>\n      <td>False</td>\n      <td>False</td>\n      <td>0.066216</td>\n    </tr>\n    <tr>\n      <th>75</th>\n      <td>0.613229</td>\n      <td>0.847927</td>\n      <td>False</td>\n      <td>False</td>\n      <td>True</td>\n      <td>0.478238</td>\n    </tr>\n    <tr>\n      <th>40</th>\n      <td>0.549298</td>\n      <td>0.205858</td>\n      <td>True</td>\n      <td>False</td>\n      <td>False</td>\n      <td>0.437802</td>\n    </tr>\n    <tr>\n      <th>24</th>\n      <td>-0.433655</td>\n      <td>0.590632</td>\n      <td>False</td>\n      <td>True</td>\n      <td>False</td>\n      <td>-0.568551</td>\n    </tr>\n    <tr>\n      <th>64</th>\n      <td>-0.122476</td>\n      <td>0.993736</td>\n      <td>False</td>\n      <td>True</td>\n      <td>False</td>\n      <td>-0.130651</td>\n    </tr>\n    <tr>\n      <th>...</th>\n      <td>...</td>\n      <td>...</td>\n      <td>...</td>\n      <td>...</td>\n      <td>...</td>\n      <td>...</td>\n    </tr>\n    <tr>\n      <th>70</th>\n      <td>0.260376</td>\n      <td>-0.989984</td>\n      <td>False</td>\n      <td>False</td>\n      <td>False</td>\n      <td>0.231410</td>\n    </tr>\n    <tr>\n      <th>34</th>\n      <td>0.613721</td>\n      <td>-1.022006</td>\n      <td>True</td>\n      <td>False</td>\n      <td>False</td>\n      <td>0.478543</td>\n    </tr>\n    <tr>\n      <th>15</th>\n      <td>-0.447374</td>\n      <td>0.285177</td>\n      <td>False</td>\n      <td>False</td>\n      <td>True</td>\n      <td>-0.593073</td>\n    </tr>\n    <tr>\n      <th>38</th>\n      <td>-1.034225</td>\n      <td>0.833296</td>\n      <td>False</td>\n      <td>False</td>\n      <td>True</td>\n      <td>NaN</td>\n    </tr>\n    <tr>\n      <th>36</th>\n      <td>0.143502</td>\n      <td>-0.876220</td>\n      <td>False</td>\n      <td>False</td>\n      <td>False</td>\n      <td>0.134096</td>\n    </tr>\n  </tbody>\n</table>\n<p>78 rows × 6 columns</p>\n</div>"
          },
          "metadata": {}
        }
      ],
      "execution_count": 7,
      "metadata": {
        "gather": {
          "logged": 1759574350723
        }
      }
    }
  ],
  "metadata": {
    "kernelspec": {
      "name": "ml_env",
      "language": "python",
      "display_name": "ML project ENV"
    },
    "language_info": {
      "name": "python",
      "version": "3.12.11",
      "mimetype": "text/x-python",
      "codemirror_mode": {
        "name": "ipython",
        "version": 3
      },
      "pygments_lexer": "ipython3",
      "nbconvert_exporter": "python",
      "file_extension": ".py"
    },
    "microsoft": {
      "ms_spell_check": {
        "ms_spell_check_language": "en"
      },
      "host": {
        "AzureML": {
          "notebookHasBeenCompleted": true
        }
      }
    },
    "kernel_info": {
      "name": "ml_env"
    },
    "nteract": {
      "version": "nteract-front-end@1.0.0"
    }
  },
  "nbformat": 4,
  "nbformat_minor": 2
}